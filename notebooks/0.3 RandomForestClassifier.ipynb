{
 "cells": [
  {
   "cell_type": "markdown",
   "metadata": {},
   "source": [
    "# RandomForestClassifier"
   ]
  },
  {
   "cell_type": "code",
   "execution_count": 4,
   "metadata": {},
   "outputs": [],
   "source": [
    "import time\n",
    "import random\n",
    "import numpy as np\n",
    "import pandas as pd\n",
    "import seaborn as sns\n",
    "import matplotlib.pyplot as plt\n",
    "from sklearn.metrics import confusion_matrix, accuracy_score, roc_curve, auc,  f1_score, precision_score, recall_score, jaccard_score, log_loss, roc_auc_score, classification_report\n",
    "from sklearn.model_selection import KFold, cross_val_score\n",
    "from sklearn.model_selection import train_test_split, GridSearchCV\n",
    "from sklearn.ensemble import RandomForestClassifier \n",
    "from urllib.request import urlopen \n",
    "import joblib\n",
    "\n",
    "\n",
    "pd.set_option('display.max_columns', None)\n",
    "pd.set_option('display.precision' , 2)\n",
    "\n"
   ]
  },
  {
   "cell_type": "markdown",
   "metadata": {},
   "source": [
    "##### Read the processed data to train"
   ]
  },
  {
   "cell_type": "code",
   "execution_count": 5,
   "metadata": {},
   "outputs": [
    {
     "data": {
      "text/html": [
       "<div>\n",
       "<style scoped>\n",
       "    .dataframe tbody tr th:only-of-type {\n",
       "        vertical-align: middle;\n",
       "    }\n",
       "\n",
       "    .dataframe tbody tr th {\n",
       "        vertical-align: top;\n",
       "    }\n",
       "\n",
       "    .dataframe thead th {\n",
       "        text-align: right;\n",
       "    }\n",
       "</style>\n",
       "<table border=\"1\" class=\"dataframe\">\n",
       "  <thead>\n",
       "    <tr style=\"text-align: right;\">\n",
       "      <th></th>\n",
       "      <th>Age</th>\n",
       "      <th>Attrition</th>\n",
       "      <th>DailyRate</th>\n",
       "      <th>DistanceFromHome</th>\n",
       "      <th>Education</th>\n",
       "      <th>EmployeeNumber</th>\n",
       "      <th>EnvironmentSatisfaction</th>\n",
       "      <th>Gender</th>\n",
       "      <th>HourlyRate</th>\n",
       "      <th>JobInvolvement</th>\n",
       "      <th>JobSatisfaction</th>\n",
       "      <th>MonthlyRate</th>\n",
       "      <th>NumCompaniesWorked</th>\n",
       "      <th>OverTime</th>\n",
       "      <th>PercentSalaryHike</th>\n",
       "      <th>RelationshipSatisfaction</th>\n",
       "      <th>StockOptionLevel</th>\n",
       "      <th>TrainingTimesLastYear</th>\n",
       "      <th>WorkLifeBalance</th>\n",
       "      <th>YearsSinceLastPromotion</th>\n",
       "      <th>BusinessTravel_Non-Travel</th>\n",
       "      <th>EducationField_Human Resources</th>\n",
       "      <th>EducationField_Life Sciences</th>\n",
       "      <th>EducationField_Marketing</th>\n",
       "      <th>EducationField_Medical</th>\n",
       "      <th>EducationField_Other</th>\n",
       "      <th>EducationField_Technical Degree</th>\n",
       "      <th>JobRole_Healthcare Representative</th>\n",
       "      <th>JobRole_Laboratory Technician</th>\n",
       "      <th>JobRole_Manager</th>\n",
       "      <th>JobRole_Manufacturing Director</th>\n",
       "      <th>JobRole_Research Director</th>\n",
       "      <th>JobRole_Research Scientist</th>\n",
       "      <th>JobRole_Sales Representative</th>\n",
       "      <th>MaritalStatus_Divorced</th>\n",
       "      <th>MaritalStatus_Married</th>\n",
       "      <th>MaritalStatus_Single</th>\n",
       "    </tr>\n",
       "  </thead>\n",
       "  <tbody>\n",
       "    <tr>\n",
       "      <th>0</th>\n",
       "      <td>4.46e-01</td>\n",
       "      <td>1</td>\n",
       "      <td>0.74</td>\n",
       "      <td>-1.01</td>\n",
       "      <td>2</td>\n",
       "      <td>-1.73</td>\n",
       "      <td>2</td>\n",
       "      <td>0</td>\n",
       "      <td>1.38</td>\n",
       "      <td>3</td>\n",
       "      <td>4</td>\n",
       "      <td>0.73</td>\n",
       "      <td>8.0</td>\n",
       "      <td>1</td>\n",
       "      <td>11</td>\n",
       "      <td>1</td>\n",
       "      <td>0.0</td>\n",
       "      <td>0.5</td>\n",
       "      <td>1</td>\n",
       "      <td>0.0</td>\n",
       "      <td>0.0</td>\n",
       "      <td>0.0</td>\n",
       "      <td>1.0</td>\n",
       "      <td>0.0</td>\n",
       "      <td>0.0</td>\n",
       "      <td>0.0</td>\n",
       "      <td>0.0</td>\n",
       "      <td>0.0</td>\n",
       "      <td>0.0</td>\n",
       "      <td>0.0</td>\n",
       "      <td>0.0</td>\n",
       "      <td>0.0</td>\n",
       "      <td>0.0</td>\n",
       "      <td>0.0</td>\n",
       "      <td>0.0</td>\n",
       "      <td>0.0</td>\n",
       "      <td>1.0</td>\n",
       "    </tr>\n",
       "    <tr>\n",
       "      <th>1</th>\n",
       "      <td>1.32e+00</td>\n",
       "      <td>0</td>\n",
       "      <td>-1.30</td>\n",
       "      <td>-0.15</td>\n",
       "      <td>1</td>\n",
       "      <td>-1.73</td>\n",
       "      <td>3</td>\n",
       "      <td>1</td>\n",
       "      <td>-0.24</td>\n",
       "      <td>2</td>\n",
       "      <td>2</td>\n",
       "      <td>1.49</td>\n",
       "      <td>1.0</td>\n",
       "      <td>0</td>\n",
       "      <td>23</td>\n",
       "      <td>4</td>\n",
       "      <td>1.0</td>\n",
       "      <td>3.0</td>\n",
       "      <td>3</td>\n",
       "      <td>1.0</td>\n",
       "      <td>0.0</td>\n",
       "      <td>0.0</td>\n",
       "      <td>1.0</td>\n",
       "      <td>0.0</td>\n",
       "      <td>0.0</td>\n",
       "      <td>0.0</td>\n",
       "      <td>0.0</td>\n",
       "      <td>0.0</td>\n",
       "      <td>0.0</td>\n",
       "      <td>0.0</td>\n",
       "      <td>0.0</td>\n",
       "      <td>0.0</td>\n",
       "      <td>1.0</td>\n",
       "      <td>0.0</td>\n",
       "      <td>0.0</td>\n",
       "      <td>1.0</td>\n",
       "      <td>0.0</td>\n",
       "    </tr>\n",
       "    <tr>\n",
       "      <th>2</th>\n",
       "      <td>8.34e-03</td>\n",
       "      <td>1</td>\n",
       "      <td>1.41</td>\n",
       "      <td>-0.89</td>\n",
       "      <td>2</td>\n",
       "      <td>-1.73</td>\n",
       "      <td>4</td>\n",
       "      <td>1</td>\n",
       "      <td>1.28</td>\n",
       "      <td>2</td>\n",
       "      <td>3</td>\n",
       "      <td>-1.67</td>\n",
       "      <td>6.0</td>\n",
       "      <td>1</td>\n",
       "      <td>15</td>\n",
       "      <td>2</td>\n",
       "      <td>0.0</td>\n",
       "      <td>3.0</td>\n",
       "      <td>3</td>\n",
       "      <td>0.0</td>\n",
       "      <td>0.0</td>\n",
       "      <td>0.0</td>\n",
       "      <td>0.0</td>\n",
       "      <td>0.0</td>\n",
       "      <td>0.0</td>\n",
       "      <td>1.0</td>\n",
       "      <td>0.0</td>\n",
       "      <td>0.0</td>\n",
       "      <td>1.0</td>\n",
       "      <td>0.0</td>\n",
       "      <td>0.0</td>\n",
       "      <td>0.0</td>\n",
       "      <td>0.0</td>\n",
       "      <td>0.0</td>\n",
       "      <td>0.0</td>\n",
       "      <td>0.0</td>\n",
       "      <td>1.0</td>\n",
       "    </tr>\n",
       "  </tbody>\n",
       "</table>\n",
       "</div>"
      ],
      "text/plain": [
       "        Age  Attrition  DailyRate  DistanceFromHome  Education  \\\n",
       "0  4.46e-01          1       0.74             -1.01          2   \n",
       "1  1.32e+00          0      -1.30             -0.15          1   \n",
       "2  8.34e-03          1       1.41             -0.89          2   \n",
       "\n",
       "   EmployeeNumber  EnvironmentSatisfaction  Gender  HourlyRate  \\\n",
       "0           -1.73                        2       0        1.38   \n",
       "1           -1.73                        3       1       -0.24   \n",
       "2           -1.73                        4       1        1.28   \n",
       "\n",
       "   JobInvolvement  JobSatisfaction  MonthlyRate  NumCompaniesWorked  OverTime  \\\n",
       "0               3                4         0.73                 8.0         1   \n",
       "1               2                2         1.49                 1.0         0   \n",
       "2               2                3        -1.67                 6.0         1   \n",
       "\n",
       "   PercentSalaryHike  RelationshipSatisfaction  StockOptionLevel  \\\n",
       "0                 11                         1               0.0   \n",
       "1                 23                         4               1.0   \n",
       "2                 15                         2               0.0   \n",
       "\n",
       "   TrainingTimesLastYear  WorkLifeBalance  YearsSinceLastPromotion  \\\n",
       "0                    0.5                1                      0.0   \n",
       "1                    3.0                3                      1.0   \n",
       "2                    3.0                3                      0.0   \n",
       "\n",
       "   BusinessTravel_Non-Travel  EducationField_Human Resources  \\\n",
       "0                        0.0                             0.0   \n",
       "1                        0.0                             0.0   \n",
       "2                        0.0                             0.0   \n",
       "\n",
       "   EducationField_Life Sciences  EducationField_Marketing  \\\n",
       "0                           1.0                       0.0   \n",
       "1                           1.0                       0.0   \n",
       "2                           0.0                       0.0   \n",
       "\n",
       "   EducationField_Medical  EducationField_Other  \\\n",
       "0                     0.0                   0.0   \n",
       "1                     0.0                   0.0   \n",
       "2                     0.0                   1.0   \n",
       "\n",
       "   EducationField_Technical Degree  JobRole_Healthcare Representative  \\\n",
       "0                              0.0                                0.0   \n",
       "1                              0.0                                0.0   \n",
       "2                              0.0                                0.0   \n",
       "\n",
       "   JobRole_Laboratory Technician  JobRole_Manager  \\\n",
       "0                            0.0              0.0   \n",
       "1                            0.0              0.0   \n",
       "2                            1.0              0.0   \n",
       "\n",
       "   JobRole_Manufacturing Director  JobRole_Research Director  \\\n",
       "0                             0.0                        0.0   \n",
       "1                             0.0                        0.0   \n",
       "2                             0.0                        0.0   \n",
       "\n",
       "   JobRole_Research Scientist  JobRole_Sales Representative  \\\n",
       "0                         0.0                           0.0   \n",
       "1                         1.0                           0.0   \n",
       "2                         0.0                           0.0   \n",
       "\n",
       "   MaritalStatus_Divorced  MaritalStatus_Married  MaritalStatus_Single  \n",
       "0                     0.0                    0.0                   1.0  \n",
       "1                     0.0                    1.0                   0.0  \n",
       "2                     0.0                    0.0                   1.0  "
      ]
     },
     "execution_count": 5,
     "metadata": {},
     "output_type": "execute_result"
    }
   ],
   "source": [
    "def read_data(file_path):\n",
    "    \"\"\"\n",
    "    Read data from a CSV file into a pandas DataFrame.\n",
    "    \n",
    "    \"\"\"\n",
    "    try:\n",
    "        df = pd.read_csv(file_path)\n",
    "        return df\n",
    "    except FileNotFoundError:\n",
    "        print(\"Error: File not found.\")\n",
    "        return None\n",
    "    \n",
    "processed_datafarme = read_data('../data/processed/train_model_data.csv')\n",
    "\n",
    "processed_datafarme.head(3)"
   ]
  },
  {
   "cell_type": "markdown",
   "metadata": {},
   "source": [
    "##### Split the target and feature variables  "
   ]
  },
  {
   "cell_type": "code",
   "execution_count": 6,
   "metadata": {},
   "outputs": [],
   "source": [
    "def split_data(df, target_column):\n",
    "   \n",
    "    x = df.drop(target_column, axis=1)  # Features\n",
    "    y = df[target_column]  # Target variable\n",
    "    return x, y\n",
    "\n",
    "x , y = split_data(processed_datafarme,'Attrition')"
   ]
  },
  {
   "cell_type": "markdown",
   "metadata": {},
   "source": [
    "##### Split the data into Train-Test"
   ]
  },
  {
   "cell_type": "code",
   "execution_count": 7,
   "metadata": {},
   "outputs": [
    {
     "name": "stdout",
     "output_type": "stream",
     "text": [
      "X_train shape: (2352, 36)\n",
      "X_test shape: (588, 36)\n",
      "y_train shape: (2352,)\n",
      "y_test shape: (588,)\n"
     ]
    }
   ],
   "source": [
    "X_train, X_test, y_train, y_test = train_test_split(x, y, test_size=0.2,random_state=42)\n",
    "\n",
    "# Print the shapes of the train and test sets\n",
    "print(\"X_train shape:\", X_train.shape)\n",
    "print(\"X_test shape:\", X_test.shape)\n",
    "print(\"y_train shape:\", y_train.shape)\n",
    "print(\"y_test shape:\", y_test.shape)"
   ]
  },
  {
   "cell_type": "code",
   "execution_count": 8,
   "metadata": {},
   "outputs": [],
   "source": [
    "# Cleaning test sets to avoid future warning messages\n",
    "y_train = y_train.values.ravel() \n",
    "y_test = y_test.values.ravel() "
   ]
  },
  {
   "cell_type": "code",
   "execution_count": 9,
   "metadata": {},
   "outputs": [
    {
     "name": "stderr",
     "output_type": "stream",
     "text": [
      "c:\\Users\\samee\\anaconda3\\Lib\\site-packages\\sklearn\\model_selection\\_validation.py:425: FitFailedWarning: \n",
      "1440 fits failed out of a total of 5760.\n",
      "The score on these train-test partitions for these parameters will be set to nan.\n",
      "If these failures are not expected, you can try to debug them by setting error_score='raise'.\n",
      "\n",
      "Below are more details about the failures:\n",
      "--------------------------------------------------------------------------------\n",
      "983 fits failed with the following error:\n",
      "Traceback (most recent call last):\n",
      "  File \"c:\\Users\\samee\\anaconda3\\Lib\\site-packages\\sklearn\\model_selection\\_validation.py\", line 732, in _fit_and_score\n",
      "    estimator.fit(X_train, y_train, **fit_params)\n",
      "  File \"c:\\Users\\samee\\anaconda3\\Lib\\site-packages\\sklearn\\base.py\", line 1144, in wrapper\n",
      "    estimator._validate_params()\n",
      "  File \"c:\\Users\\samee\\anaconda3\\Lib\\site-packages\\sklearn\\base.py\", line 637, in _validate_params\n",
      "    validate_parameter_constraints(\n",
      "  File \"c:\\Users\\samee\\anaconda3\\Lib\\site-packages\\sklearn\\utils\\_param_validation.py\", line 95, in validate_parameter_constraints\n",
      "    raise InvalidParameterError(\n",
      "sklearn.utils._param_validation.InvalidParameterError: The 'max_features' parameter of RandomForestClassifier must be an int in the range [1, inf), a float in the range (0.0, 1.0], a str among {'sqrt', 'log2'} or None. Got 'auto' instead.\n",
      "\n",
      "--------------------------------------------------------------------------------\n",
      "457 fits failed with the following error:\n",
      "Traceback (most recent call last):\n",
      "  File \"c:\\Users\\samee\\anaconda3\\Lib\\site-packages\\sklearn\\model_selection\\_validation.py\", line 732, in _fit_and_score\n",
      "    estimator.fit(X_train, y_train, **fit_params)\n",
      "  File \"c:\\Users\\samee\\anaconda3\\Lib\\site-packages\\sklearn\\base.py\", line 1144, in wrapper\n",
      "    estimator._validate_params()\n",
      "  File \"c:\\Users\\samee\\anaconda3\\Lib\\site-packages\\sklearn\\base.py\", line 637, in _validate_params\n",
      "    validate_parameter_constraints(\n",
      "  File \"c:\\Users\\samee\\anaconda3\\Lib\\site-packages\\sklearn\\utils\\_param_validation.py\", line 95, in validate_parameter_constraints\n",
      "    raise InvalidParameterError(\n",
      "sklearn.utils._param_validation.InvalidParameterError: The 'max_features' parameter of RandomForestClassifier must be an int in the range [1, inf), a float in the range (0.0, 1.0], a str among {'log2', 'sqrt'} or None. Got 'auto' instead.\n",
      "\n",
      "  warnings.warn(some_fits_failed_message, FitFailedWarning)\n",
      "c:\\Users\\samee\\anaconda3\\Lib\\site-packages\\sklearn\\model_selection\\_search.py:976: UserWarning: One or more of the test scores are non-finite: [       nan        nan        nan        nan        nan        nan\n",
      "        nan        nan        nan        nan        nan        nan\n",
      " 0.76106924 0.7440696  0.75469708 0.74619005 0.73600613 0.75381717\n",
      " 0.74958529 0.74830869 0.75893797 0.74620087 0.7551154  0.75340065\n",
      " 0.7542445  0.75723945 0.75809592 0.75255319 0.74957807 0.7555247\n",
      " 0.75003246 0.76019473 0.75086188 0.76021277 0.76106203 0.75553011\n",
      " 0.70367292 0.71472413 0.71344753 0.71217093 0.71217454 0.71472413\n",
      " 0.71259647 0.70919221 0.71727732 0.71429859 0.70239452 0.70537865\n",
      "        nan        nan        nan        nan        nan        nan\n",
      "        nan        nan        nan        nan        nan        nan\n",
      " 0.77295709 0.77636675 0.77509556 0.77551929 0.77721962 0.77382077\n",
      " 0.77892535 0.77594302 0.77593401 0.76659214 0.78147313 0.77679228\n",
      " 0.77892715 0.7742463  0.78188604 0.77805986 0.78061486 0.77594122\n",
      " 0.78657771 0.78572304 0.78529571 0.77805445 0.77210783 0.7755229\n",
      " 0.74660296 0.74364046 0.75084926 0.74532636 0.75425712 0.74532095\n",
      " 0.75       0.74999639 0.74658673 0.74745222 0.75383159 0.74915074\n",
      "        nan        nan        nan        nan        nan        nan\n",
      "        nan        nan        nan        nan        nan        nan\n",
      " 0.80824919 0.81123152 0.80612514 0.80826001 0.81207357 0.81038406\n",
      " 0.80612514 0.80315903 0.80781644 0.806978   0.80569059 0.80016949\n",
      " 0.80782726 0.81165344 0.80485034 0.81123332 0.80782726 0.80868193\n",
      " 0.80569419 0.80613956 0.80910025 0.80484854 0.8082546  0.80655788\n",
      " 0.79718536 0.79804003 0.7988947  0.79973314 0.79676524 0.79252795\n",
      " 0.80016408 0.79548503 0.79209701 0.80612153 0.79335737 0.80101515\n",
      "        nan        nan        nan        nan        nan        nan\n",
      "        nan        nan        nan        nan        nan        nan\n",
      " 0.75765417 0.74490263 0.75766679 0.74786152 0.75472413 0.75214208\n",
      " 0.74743058 0.74789037 0.75509196 0.750467   0.75553913 0.75681392\n",
      " 0.7419744  0.76063649 0.75936351 0.75851064 0.74701947 0.75807789\n",
      " 0.75045438 0.75509556 0.74238009 0.75299495 0.75000902 0.74194555\n",
      " 0.70919221 0.7117454  0.71091237 0.71600072 0.71218356 0.70961774\n",
      " 0.71004327 0.70706455 0.71004147 0.71217093 0.70664443 0.70536242\n",
      "        nan        nan        nan        nan        nan        nan\n",
      "        nan        nan        nan        nan        nan        nan\n",
      " 0.77593761 0.77466823 0.76830689 0.78019293 0.77423729 0.76955644\n",
      " 0.77721421 0.76998738 0.77424089 0.77891093 0.78018933 0.78402452\n",
      " 0.78147313 0.77807068 0.77762712 0.78358997 0.77677605 0.77977281\n",
      " 0.7768013  0.78146232 0.77934006 0.78018933 0.78402272 0.77978002\n",
      " 0.74065994 0.74320231 0.74361522 0.74660115 0.74277497 0.74148576\n",
      " 0.74318969 0.74915074 0.74149838 0.73894699 0.74235124 0.7419203\n",
      "        nan        nan        nan        nan        nan        nan\n",
      "        nan        nan        nan        nan        nan        nan\n",
      " 0.80314821 0.80655608 0.80146412 0.80527768 0.8001749  0.80186801\n",
      " 0.80103137 0.79549585 0.80272809 0.79975298 0.79890552 0.80656149\n",
      " 0.8014533  0.81166066 0.80909845 0.81208078 0.81123512 0.80826001\n",
      " 0.80145691 0.80059502 0.80315543 0.79719978 0.80783267 0.80059863\n",
      " 0.79846736 0.79635052 0.8018626  0.79507212 0.79549225 0.79846736\n",
      " 0.79591958 0.79548143 0.78996213 0.7988929  0.79337541 0.79719618\n",
      "        nan        nan        nan        nan        nan        nan\n",
      "        nan        nan        nan        nan        nan        nan\n",
      " 0.74234764 0.75171114 0.73981248 0.74277497 0.74533357 0.74108366\n",
      " 0.7402344  0.7406401  0.73600072 0.73470249 0.74532276 0.7376758\n",
      " 0.74065813 0.74745041 0.74362423 0.73851064 0.73555355 0.75000721\n",
      " 0.74320231 0.74276596 0.74022539 0.73386946 0.74575911 0.74194735\n",
      " 0.60593401 0.60593401 0.60593401 0.60593401 0.60593401 0.60593401\n",
      " 0.60593401 0.60593401 0.60593401 0.60593401 0.60593401 0.60593401\n",
      "        nan        nan        nan        nan        nan        nan\n",
      "        nan        nan        nan        nan        nan        nan\n",
      " 0.75382979 0.76362243 0.7648864  0.76445546 0.76699964 0.76318247\n",
      " 0.76021277 0.76063289 0.76020014 0.75723044 0.76063469 0.7687216\n",
      " 0.76489001 0.75724666 0.76700865 0.76574288 0.76318788 0.76659034\n",
      " 0.75723585 0.77211684 0.7704093  0.76361702 0.76235305 0.75851605\n",
      " 0.69940858 0.69940858 0.69940858 0.69940858 0.69940858 0.69940858\n",
      " 0.69940858 0.69940858 0.69940858 0.69940858 0.69940858 0.69940858\n",
      "        nan        nan        nan        nan        nan        nan\n",
      "        nan        nan        nan        nan        nan        nan\n",
      " 0.79463938 0.78954382 0.78954021 0.78784529 0.78359899 0.78572485\n",
      " 0.79082943 0.79167328 0.77763613 0.78912009 0.78445005 0.79082221\n",
      " 0.79081861 0.78911828 0.78826361 0.79421565 0.79550307 0.79507393\n",
      " 0.79166246 0.78996935 0.79039308 0.78571583 0.7963397  0.78658132\n",
      " 0.73090155 0.73090155 0.73090155 0.73090155 0.73090155 0.73090155\n",
      " 0.73047602 0.73047602 0.73047602 0.73047602 0.73005049 0.73005049\n",
      "        nan        nan        nan        nan        nan        nan\n",
      "        nan        nan        nan        nan        nan        nan\n",
      " 0.73980887 0.74363145 0.73938514 0.73427155 0.7419167  0.74235305\n",
      " 0.73810674 0.7343022  0.7295907  0.73979625 0.73810674 0.74489722\n",
      " 0.74448071 0.74107104 0.74745402 0.74276415 0.74150559 0.73682474\n",
      " 0.74661017 0.74108907 0.73980707 0.74957447 0.74319329 0.73044537\n",
      " 0.60167869 0.60167869 0.60167869 0.60167869 0.60167869 0.60167869\n",
      " 0.60167869 0.60167869 0.60167869 0.60167869 0.60167869 0.60167869\n",
      "        nan        nan        nan        nan        nan        nan\n",
      "        nan        nan        nan        nan        nan        nan\n",
      " 0.75553372 0.76190408 0.76105301 0.75934908 0.75894158 0.76403173\n",
      " 0.75851244 0.75765417 0.76361342 0.75851064 0.75467544 0.75723765\n",
      " 0.75470249 0.76318067 0.76446989 0.76317887 0.76234043 0.75977822\n",
      " 0.77423188 0.76318067 0.7636044  0.76403534 0.76913631 0.76063109\n",
      " 0.70748107 0.70748107 0.70748107 0.70748107 0.70748107 0.70748107\n",
      " 0.70748107 0.70748107 0.70748107 0.70748107 0.70748107 0.70748107\n",
      "        nan        nan        nan        nan        nan        nan\n",
      "        nan        nan        nan        nan        nan        nan\n",
      " 0.78614317 0.78189506 0.78062027 0.78869275 0.78146592 0.79039127\n",
      " 0.78572304 0.78359719 0.78445186 0.78529931 0.78699423 0.78403354\n",
      " 0.7878471  0.78869095 0.78486837 0.78783628 0.78146232 0.79167869\n",
      " 0.78147854 0.78699964 0.78954021 0.78572124 0.77977281 0.78487018\n",
      " 0.73515867 0.73515867 0.73515867 0.73515867 0.73515867 0.73515867\n",
      " 0.73515867 0.73515867 0.73515867 0.73515867 0.73515867 0.73515867]\n",
      "  warnings.warn(\n"
     ]
    },
    {
     "name": "stdout",
     "output_type": "stream",
     "text": [
      "{'bootstrap': True, 'criterion': 'entropy', 'max_depth': 4, 'max_features': 'log2', 'min_samples_leaf': 2, 'min_samples_split': 2}\n"
     ]
    }
   ],
   "source": [
    "random_forest_tree = RandomForestClassifier(class_weight='balanced')\n",
    "param_grid = {\n",
    "    'max_depth': [2,3,4],\n",
    "    'bootstrap': [True, False],\n",
    "    'max_features': ['auto', 'sqrt', 'log2', None],\n",
    "    'criterion': ['gini', 'entropy'],\n",
    "    'min_samples_split': [2, 3, 4 ],\n",
    "    'min_samples_leaf': [1, 2, 3, 4],\n",
    "             }\n",
    "\n",
    "# Perform a grid search to find the best hyperparameters\n",
    "grid_search = GridSearchCV(random_forest_tree, param_grid, cv=10,  n_jobs = 3)\n",
    "grid_search.fit(X_train, y_train)\n",
    "\n",
    "# Print the best hyperparameters\n",
    "print(grid_search.best_params_)"
   ]
  },
  {
   "cell_type": "code",
   "execution_count": 28,
   "metadata": {},
   "outputs": [
    {
     "name": "stdout",
     "output_type": "stream",
     "text": [
      "Training score for Model: 84.06%\n",
      "Testing score for Model: 83.16%\n"
     ]
    }
   ],
   "source": [
    "#final model of decision tree\n",
    "top_model_random_forest_tree = RandomForestClassifier(bootstrap=True, min_samples_leaf=2, min_samples_split=2, criterion='entropy', max_features='log2', max_depth=4)\n",
    "\n",
    "top_model_random_forest_tree.fit(X_train, y_train)\n",
    "\n",
    "MODEL_TRAIN_SCORE = top_model_random_forest_tree.score(X_train, y_train)\n",
    "\n",
    "print(f\"Training score for Model: {MODEL_TRAIN_SCORE * 100:.2f}%\")\n",
    "\n",
    "#test model\n",
    "\n",
    "TEST_MODEL_SCORE = top_model_random_forest_tree.score(X_test, y_test)\n",
    "\n",
    "print(f\"Testing score for Model: {TEST_MODEL_SCORE * 100:.2f}%\")"
   ]
  },
  {
   "cell_type": "markdown",
   "metadata": {},
   "source": [
    "##### OOB ERROR"
   ]
  },
  {
   "cell_type": "code",
   "execution_count": 11,
   "metadata": {},
   "outputs": [
    {
     "name": "stdout",
     "output_type": "stream",
     "text": [
      "Best OOB error: 0.15603741496598644 at n_estimators: 18\n"
     ]
    },
    {
     "data": {
      "image/png": "[encoded data removed]",
      "text/plain": [
       "<Figure size 1000x600 with 1 Axes>"
      ]
     },
     "metadata": {},
     "output_type": "display_data"
    }
   ],
   "source": [
    "min_estimators = 15\n",
    "max_estimators = 400  # or any other appropriate upper limit\n",
    "\n",
    "error_rate = {}\n",
    "\n",
    "for i in range(min_estimators, max_estimators + 1):\n",
    "    top_model_random_forest_tree.set_params(n_estimators=i)\n",
    "    top_model_random_forest_tree.fit(X_train, y_train)\n",
    "\n",
    "     # Compute OOB error manually\n",
    "    oob_error = 1 - top_model_random_forest_tree.score(X_train, y_train)\n",
    "    error_rate[i] = oob_error\n",
    "\n",
    "best_oob_error = min(error_rate, key=error_rate.get)\n",
    "best_error_rate = error_rate[best_oob_error]\n",
    "print(f\"Best OOB error: {best_error_rate} at n_estimators: {best_oob_error}\")\n",
    "\n",
    "# Convert dictionary to a pandas series for easy plotting\n",
    "oob_series = pd.Series(error_rate)\n",
    "\n",
    "\n",
    "\n",
    "plt.figure(figsize=(10, 6))\n",
    "plt.plot(oob_series, color='b', label='OOB Error Rate')\n",
    "plt.axvline(x=best_oob_error, color='r', linestyle='--', label='Best OOB Error')\n",
    "plt.xlabel('Number of Estimators')\n",
    "plt.ylabel('OOB Error Rate')\n",
    "plt.title('OOB Error Rate vs. Number of Estimators')\n",
    "plt.legend()\n",
    "plt.show()\n"
   ]
  },
  {
   "cell_type": "code",
   "execution_count": 12,
   "metadata": {},
   "outputs": [
    {
     "data": {
      "text/plain": [
       "Text(0.5, 1.0, 'OOB Error Rate Across various Forest sizes \\n(From 15 to 1000 trees)')"
      ]
     },
     "execution_count": 12,
     "metadata": {},
     "output_type": "execute_result"
    },
    {
     "data": {
      "image/png": "[encoded data removed]",
      "text/plain": [
       "<Figure size 1000x1000 with 1 Axes>"
      ]
     },
     "metadata": {},
     "output_type": "display_data"
    }
   ],
   "source": [
    "fig, ax = plt.subplots(figsize=(10, 10))\n",
    "\n",
    "ax.set_facecolor('#fafafa')\n",
    "\n",
    "oob_series.plot(kind='line',color = 'red')\n",
    "plt.axhline(0.16, color='#875FDB',linestyle='--')\n",
    "plt.axhline(0.1498, color='#875FDB',linestyle='--')\n",
    "plt.xlabel('n_estimators')\n",
    "plt.ylabel('OOB Error Rate')\n",
    "plt.title('OOB Error Rate Across various Forest sizes \\n(From 15 to 1000 trees)')"
   ]
  },
  {
   "cell_type": "code",
   "execution_count": 29,
   "metadata": {},
   "outputs": [
    {
     "data": {
      "text/html": [
       "<style>#sk-container-id-2 {color: black;}#sk-container-id-2 pre{padding: 0;}#sk-container-id-2 div.sk-toggleable {background-color: white;}#sk-container-id-2 label.sk-toggleable__label {cursor: pointer;display: block;width: 100%;margin-bottom: 0;padding: 0.3em;box-sizing: border-box;text-align: center;}#sk-container-id-2 label.sk-toggleable__label-arrow:before {content: \"▸\";float: left;margin-right: 0.25em;color: #696969;}#sk-container-id-2 label.sk-toggleable__label-arrow:hover:before {color: black;}#sk-container-id-2 div.sk-estimator:hover label.sk-toggleable__label-arrow:before {color: black;}#sk-container-id-2 div.sk-toggleable__content {max-height: 0;max-width: 0;overflow: hidden;text-align: left;background-color: #f0f8ff;}#sk-container-id-2 div.sk-toggleable__content pre {margin: 0.2em;color: black;border-radius: 0.25em;background-color: #f0f8ff;}#sk-container-id-2 input.sk-toggleable__control:checked~div.sk-toggleable__content {max-height: 200px;max-width: 100%;overflow: auto;}#sk-container-id-2 input.sk-toggleable__control:checked~label.sk-toggleable__label-arrow:before {content: \"▾\";}#sk-container-id-2 div.sk-estimator input.sk-toggleable__control:checked~label.sk-toggleable__label {background-color: #d4ebff;}#sk-container-id-2 div.sk-label input.sk-toggleable__control:checked~label.sk-toggleable__label {background-color: #d4ebff;}#sk-container-id-2 input.sk-hidden--visually {border: 0;clip: rect(1px 1px 1px 1px);clip: rect(1px, 1px, 1px, 1px);height: 1px;margin: -1px;overflow: hidden;padding: 0;position: absolute;width: 1px;}#sk-container-id-2 div.sk-estimator {font-family: monospace;background-color: #f0f8ff;border: 1px dotted black;border-radius: 0.25em;box-sizing: border-box;margin-bottom: 0.5em;}#sk-container-id-2 div.sk-estimator:hover {background-color: #d4ebff;}#sk-container-id-2 div.sk-parallel-item::after {content: \"\";width: 100%;border-bottom: 1px solid gray;flex-grow: 1;}#sk-container-id-2 div.sk-label:hover label.sk-toggleable__label {background-color: #d4ebff;}#sk-container-id-2 div.sk-serial::before {content: \"\";position: absolute;border-left: 1px solid gray;box-sizing: border-box;top: 0;bottom: 0;left: 50%;z-index: 0;}#sk-container-id-2 div.sk-serial {display: flex;flex-direction: column;align-items: center;background-color: white;padding-right: 0.2em;padding-left: 0.2em;position: relative;}#sk-container-id-2 div.sk-item {position: relative;z-index: 1;}#sk-container-id-2 div.sk-parallel {display: flex;align-items: stretch;justify-content: center;background-color: white;position: relative;}#sk-container-id-2 div.sk-item::before, #sk-container-id-2 div.sk-parallel-item::before {content: \"\";position: absolute;border-left: 1px solid gray;box-sizing: border-box;top: 0;bottom: 0;left: 50%;z-index: -1;}#sk-container-id-2 div.sk-parallel-item {display: flex;flex-direction: column;z-index: 1;position: relative;background-color: white;}#sk-container-id-2 div.sk-parallel-item:first-child::after {align-self: flex-end;width: 50%;}#sk-container-id-2 div.sk-parallel-item:last-child::after {align-self: flex-start;width: 50%;}#sk-container-id-2 div.sk-parallel-item:only-child::after {width: 0;}#sk-container-id-2 div.sk-dashed-wrapped {border: 1px dashed gray;margin: 0 0.4em 0.5em 0.4em;box-sizing: border-box;padding-bottom: 0.4em;background-color: white;}#sk-container-id-2 div.sk-label label {font-family: monospace;font-weight: bold;display: inline-block;line-height: 1.2em;}#sk-container-id-2 div.sk-label-container {text-align: center;}#sk-container-id-2 div.sk-container {/* jupyter's `normalize.less` sets `[hidden] { display: none; }` but bootstrap.min.css set `[hidden] { display: none !important; }` so we also need the `!important` here to be able to override the default hidden behavior on the sphinx rendered scikit-learn.org. See: https://github.com/scikit-learn/scikit-learn/issues/21755 */display: inline-block !important;position: relative;}#sk-container-id-2 div.sk-text-repr-fallback {display: none;}</style><div id=\"sk-container-id-2\" class=\"sk-top-container\"><div class=\"sk-text-repr-fallback\"><pre>RandomForestClassifier(criterion=&#x27;entropy&#x27;, max_depth=4, max_features=&#x27;log2&#x27;,\n",
       "                       min_samples_leaf=2, n_estimators=200)</pre><b>In a Jupyter environment, please rerun this cell to show the HTML representation or trust the notebook. <br />On GitHub, the HTML representation is unable to render, please try loading this page with nbviewer.org.</b></div><div class=\"sk-container\" hidden><div class=\"sk-item\"><div class=\"sk-estimator sk-toggleable\"><input class=\"sk-toggleable__control sk-hidden--visually\" id=\"sk-estimator-id-2\" type=\"checkbox\" checked><label for=\"sk-estimator-id-2\" class=\"sk-toggleable__label sk-toggleable__label-arrow\">RandomForestClassifier</label><div class=\"sk-toggleable__content\"><pre>RandomForestClassifier(criterion=&#x27;entropy&#x27;, max_depth=4, max_features=&#x27;log2&#x27;,\n",
       "                       min_samples_leaf=2, n_estimators=200)</pre></div></div></div></div></div>"
      ],
      "text/plain": [
       "RandomForestClassifier(criterion='entropy', max_depth=4, max_features='log2',\n",
       "                       min_samples_leaf=2, n_estimators=200)"
      ]
     },
     "execution_count": 29,
     "metadata": {},
     "output_type": "execute_result"
    }
   ],
   "source": [
    "# Refine the tree via OOB Output\n",
    "top_model_random_forest_tree.set_params(n_estimators=200,\n",
    "                  bootstrap = True,\n",
    "                  warm_start=False, \n",
    "                  oob_score=False)"
   ]
  },
  {
   "cell_type": "code",
   "execution_count": 30,
   "metadata": {},
   "outputs": [
    {
     "name": "stdout",
     "output_type": "stream",
     "text": [
      "Training score for Model: 84.14%\n",
      "Testing score for Model: 83.16%\n"
     ]
    }
   ],
   "source": [
    "top_model_random_forest_tree.fit(X_train, y_train)\n",
    "\n",
    "MODEL_TRAIN_SCORE = top_model_random_forest_tree.score(X_train, y_train)\n",
    "\n",
    "print(f\"Training score for Model: {MODEL_TRAIN_SCORE * 100:.2f}%\")\n",
    "\n",
    "#test model\n",
    "\n",
    "TEST_MODEL_SCORE = top_model_random_forest_tree.score(X_test, y_test)\n",
    "\n",
    "print(f\"Testing score for Model: {TEST_MODEL_SCORE * 100:.2f}%\")"
   ]
  },
  {
   "cell_type": "code",
   "execution_count": 31,
   "metadata": {},
   "outputs": [
    {
     "name": "stdout",
     "output_type": "stream",
     "text": [
      "Accuracy Score : 83.16 %\n"
     ]
    }
   ],
   "source": [
    "\n",
    "y_pred = top_model_random_forest_tree.predict(X_test)\n",
    "\n",
    "print(\"Accuracy Score :\", round(accuracy_score(y_test, y_pred)*100 ,2), \"%\")"
   ]
  },
  {
   "cell_type": "code",
   "execution_count": 32,
   "metadata": {},
   "outputs": [
    {
     "name": "stdout",
     "output_type": "stream",
     "text": [
      "F-1 Score :  0.8316326530612244\n",
      "Precision Score :  0.8316326530612245\n",
      "Recall Score :  0.8316326530612245\n",
      "Jaccard Score :  0.7117903930131004\n",
      "Log Loss :  6.068574295106459\n"
     ]
    }
   ],
   "source": [
    "\n",
    "print('F-1 Score : ',(f1_score(y_test, y_pred, average='micro')))\n",
    "print('Precision Score : ',(precision_score(y_test, y_pred, average='micro')))\n",
    "print('Recall Score : ',(recall_score(y_test, y_pred, average='micro')))\n",
    "print('Jaccard Score : ',(jaccard_score(y_test, y_pred, average='micro')))\n",
    "print('Log Loss : ',(log_loss(y_test, y_pred)))"
   ]
  },
  {
   "cell_type": "code",
   "execution_count": 17,
   "metadata": {},
   "outputs": [],
   "source": [
    "fpr_dt, tpr_dt, _ = roc_curve(y_test, y_pred)\n",
    "roc_auc_dt = auc(fpr_dt, tpr_dt)"
   ]
  },
  {
   "cell_type": "code",
   "execution_count": 18,
   "metadata": {},
   "outputs": [
    {
     "data": {
      "text/plain": [
       "<matplotlib.legend.Legend at 0x20006034a50>"
      ]
     },
     "execution_count": 18,
     "metadata": {},
     "output_type": "execute_result"
    },
    {
     "data": {
      "image/png": "[encoded data removed]",
      "text/plain": [
       "<Figure size 640x480 with 1 Axes>"
      ]
     },
     "metadata": {},
     "output_type": "display_data"
    }
   ],
   "source": [
    "\n",
    "y_pred_proba = top_model_random_forest_tree.predict_proba(X_test)[:][:,1]\n",
    "\n",
    "df_actual_predicted = pd.concat([pd.DataFrame(np.array(y_test), columns=['y_actual']), pd.DataFrame(y_pred_proba, columns=['y_pred_proba'])], axis=1)\n",
    "\n",
    "\n",
    "fpr, tpr, tr = roc_curve(df_actual_predicted['y_actual'], df_actual_predicted['y_pred_proba'])\n",
    "auc = roc_auc_score(df_actual_predicted['y_actual'], df_actual_predicted['y_pred_proba'])\n",
    "\n",
    "plt.plot(fpr, tpr, label='AUC = %0.4f' %auc)\n",
    "plt.plot(fpr, fpr, linestyle = '--', color='k')\n",
    "plt.xlabel('False Positive Rate')\n",
    "plt.ylabel('True Positive Rate')\n",
    "plt.title('ROC Curve', size = 15)\n",
    "plt.legend()"
   ]
  },
  {
   "cell_type": "code",
   "execution_count": 37,
   "metadata": {},
   "outputs": [
    {
     "data": {
      "text/plain": [
       "['../models/random_forest_tree_model.pkl']"
      ]
     },
     "execution_count": 37,
     "metadata": {},
     "output_type": "execute_result"
    }
   ],
   "source": [
    "joblib.dump(top_model_random_forest_tree, '../models/random_forest_tree_model.pkl')"
   ]
  },
  {
   "cell_type": "code",
   "execution_count": 36,
   "metadata": {},
   "outputs": [
    {
     "name": "stderr",
     "output_type": "stream",
     "text": [
      "c:\\Users\\samee\\anaconda3\\Lib\\site-packages\\sklearn\\base.py:464: UserWarning: X does not have valid feature names, but RandomForestClassifier was fitted with feature names\n",
      "  warnings.warn(\n"
     ]
    },
    {
     "data": {
      "text/plain": [
       "array([0], dtype=int64)"
      ]
     },
     "execution_count": 36,
     "metadata": {},
     "output_type": "execute_result"
    }
   ],
   "source": []
  },
  {
   "cell_type": "code",
   "execution_count": null,
   "metadata": {},
   "outputs": [],
   "source": []
  },
  {
   "cell_type": "code",
   "execution_count": null,
   "metadata": {},
   "outputs": [],
   "source": []
  }
 ],
 "metadata": {
  "kernelspec": {
   "display_name": "base",
   "language": "python",
   "name": "python3"
  },
  "language_info": {
   "codemirror_mode": {
    "name": "ipython",
    "version": 3
   },
   "file_extension": ".py",
   "mimetype": "text/x-python",
   "name": "python",
   "nbconvert_exporter": "python",
   "pygments_lexer": "ipython3",
   "version": "3.11.4"
  }
 },
 "nbformat": 4,
 "nbformat_minor": 2
}
